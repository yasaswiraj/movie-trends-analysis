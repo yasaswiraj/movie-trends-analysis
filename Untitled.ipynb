{
 "cells": [
  {
   "cell_type": "code",
   "execution_count": 12,
   "id": "7db1ce42-67e2-4d81-a579-62fd406e7716",
   "metadata": {},
   "outputs": [
    {
     "name": "stdout",
     "output_type": "stream",
     "text": [
      "       titleId ordering                                title region language  \\\n",
      "37   tt0000005        2                     Blacksmith Scene     CA       en   \n",
      "88   tt0000010        2  La sortie de l'usine Lumière à Lyon     CA       en   \n",
      "119  tt0000012       21  The Arrival of a Train at La Ciotat    XWW       en   \n",
      "129  tt0000012        4               The Arrival of a Train    XEU       en   \n",
      "131  tt0000012        6               The Arrival of a Train    XWW       en   \n",
      "\n",
      "           types attributes isOriginalTitle  \n",
      "37   imdbDisplay         \\N               0  \n",
      "88   imdbDisplay         \\N               0  \n",
      "119  alternative         \\N               0  \n",
      "129  imdbDisplay         \\N               0  \n",
      "131  imdbDisplay         \\N               0  \n"
     ]
    }
   ],
   "source": [
    "import pandas as pd\n",
    "\n",
    "# Load the dataset\n",
    "file_path = 'Datasets/title.akas.tsv' \n",
    "df = pd.read_csv(file_path, sep='\\t', dtype=str)\n",
    "\n",
    "# Filter titles with language 'en'\n",
    "df_filtered = df[df['language'] == 'en']\n",
    "\n",
    "# Display the filtered data\n",
    "print(df_filtered.head())"
   ]
  },
  {
   "cell_type": "code",
   "execution_count": 4,
   "id": "a4c2c801-3eb2-47e7-bf9b-bbfc058a0f85",
   "metadata": {},
   "outputs": [
    {
     "name": "stdout",
     "output_type": "stream",
     "text": [
      "<class 'pandas.core.frame.DataFrame'>\n",
      "Index: 554932 entries, 37 to 49827960\n",
      "Data columns (total 8 columns):\n",
      " #   Column           Non-Null Count   Dtype \n",
      "---  ------           --------------   ----- \n",
      " 0   titleId          554932 non-null  object\n",
      " 1   ordering         554932 non-null  object\n",
      " 2   title            554930 non-null  object\n",
      " 3   region           554932 non-null  object\n",
      " 4   language         554932 non-null  object\n",
      " 5   types            554932 non-null  object\n",
      " 6   attributes       554932 non-null  object\n",
      " 7   isOriginalTitle  554932 non-null  object\n",
      "dtypes: object(8)\n",
      "memory usage: 38.1+ MB\n",
      "None\n"
     ]
    }
   ],
   "source": [
    "print(df_filtered.info())\n"
   ]
  },
  {
   "cell_type": "code",
   "execution_count": 7,
   "id": "bd6f8c80-f784-4d4b-aafb-69ac6e597525",
   "metadata": {},
   "outputs": [
    {
     "name": "stdout",
     "output_type": "stream",
     "text": [
      "2\n"
     ]
    }
   ],
   "source": [
    "print(df_filtered['title'].isnull().sum())"
   ]
  },
  {
   "cell_type": "code",
   "execution_count": 5,
   "id": "906e7d4d-34bb-47ab-9e18-25ae2a281bbd",
   "metadata": {},
   "outputs": [],
   "source": [
    "df_filtered = df_filtered.dropna(subset=['title'])"
   ]
  },
  {
   "cell_type": "code",
   "execution_count": 6,
   "id": "eaff327a-551a-4a9d-adfc-54065d569a1a",
   "metadata": {},
   "outputs": [
    {
     "name": "stdout",
     "output_type": "stream",
     "text": [
      "0\n"
     ]
    }
   ],
   "source": [
    "print(df_filtered['title'].isnull().sum())"
   ]
  },
  {
   "cell_type": "code",
   "execution_count": 9,
   "id": "b107558a-62e6-4805-8b83-123ff7c5ff20",
   "metadata": {},
   "outputs": [],
   "source": [
    "def format_title_for_rt(title):\n",
    "    return title.lower().replace(' ', '-')\n",
    "\n",
    "# Apply the function to create Rotten Tomatoes formatted title\n",
    "df_filtered['rt_title'] = df_filtered['title'].apply(format_title_for_rt)"
   ]
  },
  {
   "cell_type": "code",
   "execution_count": 10,
   "id": "77614010-eaf2-4e4a-8cf8-ab108d335f74",
   "metadata": {},
   "outputs": [
    {
     "name": "stdout",
     "output_type": "stream",
     "text": [
      "          titleId ordering                                        title  \\\n",
      "0       tt0000005        2                             Blacksmith Scene   \n",
      "1       tt0000010        2          La sortie de l'usine Lumière à Lyon   \n",
      "2       tt0000012       21          The Arrival of a Train at La Ciotat   \n",
      "3       tt0000013        4  The Photographical Congress Arrives in Lyon   \n",
      "4       tt0000016        4                        Boat Leaving the Port   \n",
      "...           ...      ...                                          ...   \n",
      "302674  tt9916216        2                 Kalyanam Mudhal Kadhal Varai   \n",
      "302675  tt9916362       11                             Coven of Sisters   \n",
      "302676  tt9916428        4                          The Secret of China   \n",
      "302677  tt9916634        2                                       Eugène   \n",
      "302678  tt9916706        2                              Dankyavar Danka   \n",
      "\n",
      "       region language        types attributes isOriginalTitle  \\\n",
      "0          CA       en  imdbDisplay         \\N               0   \n",
      "1          CA       en  imdbDisplay         \\N               0   \n",
      "2         XWW       en  alternative         \\N               0   \n",
      "3         XWW       en  imdbDisplay         \\N               0   \n",
      "4         XWW       en  imdbDisplay         \\N               0   \n",
      "...       ...      ...          ...        ...             ...   \n",
      "302674     IN       en  imdbDisplay         \\N               0   \n",
      "302675     CA       en  alternative         \\N               0   \n",
      "302676    XWW       en  imdbDisplay         \\N               0   \n",
      "302677    XWW       en  imdbDisplay         \\N               0   \n",
      "302678     IN       en  imdbDisplay         \\N               0   \n",
      "\n",
      "                                           rt_title  \n",
      "0                                  blacksmith-scene  \n",
      "1               la-sortie-de-l'usine-lumière-à-lyon  \n",
      "2               the-arrival-of-a-train-at-la-ciotat  \n",
      "3       the-photographical-congress-arrives-in-lyon  \n",
      "4                             boat-leaving-the-port  \n",
      "...                                             ...  \n",
      "302674                 kalyanam-mudhal-kadhal-varai  \n",
      "302675                             coven-of-sisters  \n",
      "302676                          the-secret-of-china  \n",
      "302677                                       eugène  \n",
      "302678                              dankyavar-danka  \n",
      "\n",
      "[302679 rows x 9 columns]\n"
     ]
    }
   ],
   "source": [
    "# Group by titleId and keep the first occurrence of each unique titleId\n",
    "df_cleaned = df_filtered.groupby('titleId', as_index=False).first()\n",
    "\n",
    "# Display the cleaned dataset\n",
    "print(df_cleaned)"
   ]
  },
  {
   "cell_type": "code",
   "execution_count": 24,
   "id": "3963cff9-4d9b-4216-ab77-c30d4e84db46",
   "metadata": {},
   "outputs": [
    {
     "name": "stderr",
     "output_type": "stream",
     "text": [
      "/var/folders/jc/l_cfjyfs6q7265bvjqzjj3280000gn/T/ipykernel_1979/425192187.py:34: SettingWithCopyWarning: \n",
      "A value is trying to be set on a copy of a slice from a DataFrame\n",
      "\n",
      "See the caveats in the documentation: https://pandas.pydata.org/pandas-docs/stable/user_guide/indexing.html#returning-a-view-versus-a-copy\n",
      "  final_dataset.rename(columns={'primaryName': 'director'}, inplace=True)\n",
      "/var/folders/jc/l_cfjyfs6q7265bvjqzjj3280000gn/T/ipykernel_1979/425192187.py:38: SettingWithCopyWarning: \n",
      "A value is trying to be set on a copy of a slice from a DataFrame.\n",
      "Try using .loc[row_indexer,col_indexer] = value instead\n",
      "\n",
      "See the caveats in the documentation: https://pandas.pydata.org/pandas-docs/stable/user_guide/indexing.html#returning-a-view-versus-a-copy\n",
      "  final_dataset['runtimeMinutes'] = pd.to_numeric(final_dataset['runtimeMinutes'], errors='coerce').fillna(0).astype(int)\n"
     ]
    },
    {
     "name": "stdout",
     "output_type": "stream",
     "text": [
      "       tconst               originalTitle startYear  \\\n",
      "4   tt0069049  The Other Side of the Wind      2018   \n",
      "16  tt0112502                     Bigfoot      2017   \n",
      "17  tt0116991         Mariette in Ecstasy      2019   \n",
      "18  tt0120589                Predestinado      2022   \n",
      "55  tt0137204             Joe Finds Grace      2017   \n",
      "\n",
      "                        genres  runtimeMinutes           director  \\\n",
      "4                        Drama             122       Orson Welles   \n",
      "16             Horror,Thriller               0           Mc Jones   \n",
      "17                       Drama             101        John Bailey   \n",
      "18             Biography,Drama             108  Gustavo Fernández   \n",
      "55  Adventure,Animation,Comedy              83   Anthony Harrison   \n",
      "\n",
      "    averageRating  numVotes  isOriginalTitle isAdult region  \n",
      "4             6.7    8156.0              0.0       0     US  \n",
      "16            4.7      42.0              0.0       0     US  \n",
      "17            7.1      81.0              0.0       0     US  \n",
      "18            7.2     417.0              0.0       0     US  \n",
      "55            8.6     294.0              0.0       0     US  \n"
     ]
    }
   ],
   "source": [
    "# Load the datasets\n",
    "df = pd.read_csv(url, sep='\\t', compression='gzip')\n",
    "akas = pd.read_csv('Datasets/title.akas.tsv', sep='\\t', low_memory=False)\n",
    "titles = pd.read_csv('Datasets/title.basics.tsv', sep='\\t', low_memory=False)\n",
    "crew = pd.read_csv('Datasets/title.crew.tsv', sep='\\t', low_memory=False)\n",
    "ratings = pd.read_csv('Datasets/title.ratings.tsv', sep='\\t', low_memory=False)\n",
    "names = pd.read_csv('Datasets/name.basics.tsv', sep='\\t', low_memory=False)\n",
    "\n",
    "# Step 1: Filter for English movies released after 2000\n",
    "titles_filtered = titles[(titles['startYear'] > '2010') & \n",
    "                         (titles['titleType'] == 'movie')]\n",
    "\n",
    "# Step 2: Filter for English language movies (handling NaN values)\n",
    "english_movies = titles_filtered[titles_filtered['originalTitle'].str.contains('[a-zA-Z]', regex=True, na=False)]\n",
    "\n",
    "# Step 3: Include only movies from the specified regions\n",
    "# Merge with the akas dataset to filter by region and include isOriginalTitle\n",
    "akas_filtered = akas[akas['region'].isin(['UK', 'US'])]  # 'IN' for India in IMDb region codes\n",
    "akas_filtered = akas_filtered[['titleId', 'region', 'isOriginalTitle']]  # Select only necessary columns\n",
    "\n",
    "# Merge akas_filtered with english_movies to include region and isOriginalTitle\n",
    "english_movies = english_movies.merge(akas_filtered, left_on='tconst', right_on='titleId', how='left')\n",
    "\n",
    "# Step 4: Merge with crew and ratings datasets\n",
    "merged_data = english_movies.merge(crew, left_on='tconst', right_on='tconst', how='left')\n",
    "merged_data = merged_data.merge(ratings, left_on='tconst', right_on='tconst', how='left')\n",
    "\n",
    "# Step 5: Get director names\n",
    "merged_data = merged_data.explode('directors')\n",
    "merged_data = merged_data.merge(names, left_on='directors', right_on='nconst', how='left')\n",
    "\n",
    "# Step 6: Create final dataset\n",
    "final_dataset = merged_data[['tconst', 'originalTitle', 'startYear', 'genres', 'runtimeMinutes', \n",
    "                             'primaryName', 'averageRating', 'numVotes', 'isOriginalTitle', 'isAdult', 'region']]\n",
    "final_dataset.rename(columns={'primaryName': 'director'}, inplace=True)\n",
    "\n",
    "# Step 7: Clean up the final dataset\n",
    "# Handle the runtimeMinutes field, converting to int and replacing invalid entries\n",
    "final_dataset['runtimeMinutes'] = pd.to_numeric(final_dataset['runtimeMinutes'], errors='coerce').fillna(0).astype(int)\n",
    "\n",
    "# Step 8: Remove rows with any NaN values\n",
    "final_dataset_cleaned = final_dataset.dropna()\n",
    "\n",
    "# Display the cleaned final dataset\n",
    "print(final_dataset_cleaned.head())\n"
   ]
  },
  {
   "cell_type": "code",
   "execution_count": 15,
   "id": "6cd3e3c5-cd8a-456a-b1e2-1d9b644f9eae",
   "metadata": {},
   "outputs": [
    {
     "name": "stdout",
     "output_type": "stream",
     "text": [
      "       tconst                originalTitle startYear                  genres  \\\n",
      "4   tt0035423               Kate & Leopold      2001  Comedy,Fantasy,Romance   \n",
      "7   tt0036606  Another Time, Another Place      1983               Drama,War   \n",
      "9   tt0038687           Let There Be Light      1980         Documentary,War   \n",
      "12  tt0042423        The Dungeon of Harrow      1964                  Horror   \n",
      "14  tt0044932            Out of the Shadow      1961                 Mystery   \n",
      "\n",
      "    runtimeMinutes         director  averageRating  numVotes  isOriginalTitle  \\\n",
      "4              118    James Mangold            6.4   90221.0              0.0   \n",
      "7              118  Michael Radford            6.4     362.0              0.0   \n",
      "9               58      John Huston            7.5    2048.0              0.0   \n",
      "12              86      Pat Boyette            3.4     646.0              0.0   \n",
      "14              61   Michael Winner            5.0     240.0              0.0   \n",
      "\n",
      "   isAdult region  \n",
      "4        0     US  \n",
      "7        0     US  \n",
      "9        0     US  \n",
      "12       0     US  \n",
      "14       0     US  \n"
     ]
    }
   ],
   "source": [
    "# Remove duplicate rows based on all columns\n",
    "final_dataset_cleaned = final_dataset_cleaned.drop_duplicates()\n",
    "# Display the cleaned dataset without duplicates\n",
    "print(final_dataset_cleaned.head())\n"
   ]
  },
  {
   "cell_type": "code",
   "execution_count": 20,
   "id": "f472f7a2-4e89-44f5-9792-8b4245836278",
   "metadata": {},
   "outputs": [
    {
     "name": "stdout",
     "output_type": "stream",
     "text": [
      "<class 'pandas.core.frame.DataFrame'>\n",
      "Index: 119154 entries, 4 to 394770\n",
      "Data columns (total 11 columns):\n",
      " #   Column           Non-Null Count   Dtype  \n",
      "---  ------           --------------   -----  \n",
      " 0   tconst           119154 non-null  object \n",
      " 1   originalTitle    119154 non-null  object \n",
      " 2   startYear        119154 non-null  object \n",
      " 3   genres           119154 non-null  object \n",
      " 4   runtimeMinutes   119154 non-null  int64  \n",
      " 5   director         119154 non-null  object \n",
      " 6   averageRating    119154 non-null  float64\n",
      " 7   numVotes         119154 non-null  float64\n",
      " 8   isOriginalTitle  119154 non-null  float64\n",
      " 9   isAdult          119154 non-null  object \n",
      " 10  region           119154 non-null  object \n",
      "dtypes: float64(3), int64(1), object(7)\n",
      "memory usage: 10.9+ MB\n",
      "None\n"
     ]
    }
   ],
   "source": [
    "print(final_dataset_cleaned.info())"
   ]
  },
  {
   "cell_type": "code",
   "execution_count": null,
   "id": "23ebfdc1-81f8-4cd4-a99e-5e65e103eab4",
   "metadata": {},
   "outputs": [],
   "source": []
  },
  {
   "cell_type": "code",
   "execution_count": null,
   "id": "6fd5eea7-d74f-4e6c-a24f-1d887c610e0b",
   "metadata": {},
   "outputs": [],
   "source": [
    "import requests\n",
    "from bs4 import BeautifulSoup\n",
    "import re\n",
    "import pandas as pd\n",
    "\n",
    "# Helper function to format movie title for Rotten Tomatoes URL\n",
    "def format_movie_title_for_url(title):\n",
    "    title = title.replace('&', 'and')  # Replace '&' with 'and'\n",
    "    title = re.sub(r'[^a-zA-Z0-9\\s]', '', title)  # Remove special characters\n",
    "    title = title.replace(' ', '_').lower()       # Replace spaces with underscores and make lowercase\n",
    "    return title\n",
    "\n",
    "# Function to scrape critic rating and audience rating from Rotten Tomatoes\n",
    "def scrape_rotten_tomatoes(movie_title):\n",
    "    base_url = \"https://www.rottentomatoes.com/m/\"\n",
    "    formatted_title = format_movie_title_for_url(movie_title)\n",
    "    url = base_url + formatted_title\n",
    "    headers = {'User-Agent': 'Mozilla/5.0'}\n",
    "\n",
    "    try:\n",
    "        response = requests.get(url, headers=headers)\n",
    "        if response.status_code == 404:\n",
    "            print(f\"Error fetching {movie_title}: Status code 404 (Page not found)\")\n",
    "            return None, None\n",
    "        elif response.status_code != 200:\n",
    "            print(f\"Error fetching {movie_title}: Status code {response.status_code}\")\n",
    "            return None, None\n",
    "\n",
    "        soup = BeautifulSoup(response.text, 'html.parser')\n",
    "\n",
    "        # Try to extract critic score\n",
    "        critic_score_button = soup.find('rt-button', {'slot': 'criticsScore'})\n",
    "        critic_score = None\n",
    "        if critic_score_button:\n",
    "            critic_score = critic_score_button.get_text(strip=True)\n",
    "\n",
    "        # Try to extract audience score\n",
    "        audience_score_button = soup.find('rt-button', {'slot': 'audienceScore'})\n",
    "        audience_score = None\n",
    "        if audience_score_button:\n",
    "            audience_score = audience_score_button.get_text(strip=True)\n",
    "\n",
    "        # If nothing is found, return None values\n",
    "        if not critic_score and not audience_score:\n",
    "            print(f\"No valid score found for {movie_title}\")\n",
    "            return None, None\n",
    "\n",
    "        return critic_score, audience_score\n",
    "\n",
    "    except Exception as e:\n",
    "        print(f\"Error scraping {movie_title}: {e}\")\n",
    "        return None, None\n",
    "\n",
    "\n",
    "\n",
    "# Add new columns for critic ratings and audience ratings\n",
    "final_dataset_cleaned['criticsRating'] = None\n",
    "final_dataset_cleaned['audienceRating'] = None\n",
    "\n",
    "# Filter for movies released after 2010 (modify this as needed)\n",
    "movies_after_2010 = final_dataset_cleaned[final_dataset_cleaned['startYear'] > '2010']\n",
    "\n",
    "# Scrape Rotten Tomatoes for each movie (limit to first 20 for testing)\n",
    "unsuccessful_count = 0  # Initialize counter for unsuccessful scrapes\n",
    "for index, row in movies_after_2010.iterrows():\n",
    "    movie_title = row['originalTitle']\n",
    "    critics_rating, audience_rating = scrape_rotten_tomatoes(movie_title)\n",
    "\n",
    "    if critics_rating is not None and audience_rating is not None:\n",
    "        final_dataset_cleaned.at[index, 'criticsRating'] = critics_rating\n",
    "        final_dataset_cleaned.at[index, 'audienceRating'] = audience_rating\n",
    "    else:\n",
    "        unsuccessful_count += 1  # Increment the counter for unsuccessful scrapes\n",
    "\n",
    "# Display the count of unsuccessful scrapes\n",
    "print(f\"Number of unsuccessful web scraping attempts: {unsuccessful_count}\")\n",
    "\n",
    "# Display the updated dataset (optional)\n",
    "print(final_dataset_cleaned.head(20))\n",
    "\n",
    "# Save the updated dataset to a CSV (optional)\n",
    "final_dataset_cleaned.to_csv('updated_dataset_with_rt_ratings.csv', index=False)\n"
   ]
  },
  {
   "cell_type": "code",
   "execution_count": 34,
   "id": "e00fb12c-6768-49ed-9c87-619ea9f48d46",
   "metadata": {},
   "outputs": [
    {
     "name": "stdout",
     "output_type": "stream",
     "text": [
      "4          83%\n",
      "16            \n",
      "17        None\n",
      "18        None\n",
      "55        None\n",
      "          ... \n",
      "356455    None\n",
      "356460    None\n",
      "356464    None\n",
      "356466    None\n",
      "356467    None\n",
      "Name: criticsRating, Length: 77880, dtype: object\n"
     ]
    }
   ],
   "source": [
    "print(final_dataset_cleaned['criticsRating'])"
   ]
  },
  {
   "cell_type": "code",
   "execution_count": 36,
   "id": "ff4dd8c1-a1f6-4963-bdf2-c565d7b4351b",
   "metadata": {},
   "outputs": [
    {
     "name": "stdout",
     "output_type": "stream",
     "text": [
      "tconst             721\n",
      "originalTitle      721\n",
      "startYear          721\n",
      "genres             721\n",
      "runtimeMinutes     721\n",
      "director           721\n",
      "averageRating      721\n",
      "numVotes           721\n",
      "isOriginalTitle    721\n",
      "isAdult            721\n",
      "region             721\n",
      "criticsRating      721\n",
      "voterCount           1\n",
      "audienceRating     721\n",
      "dtype: int64\n"
     ]
    }
   ],
   "source": [
    "print(final_dataset_cleaned[final_dataset_cleaned['criticsRating'].notna()].count())"
   ]
  },
  {
   "cell_type": "code",
   "execution_count": 38,
   "id": "02a6eb02-a79d-4eaa-8a77-21152f3bbb82",
   "metadata": {},
   "outputs": [
    {
     "name": "stdout",
     "output_type": "stream",
     "text": [
      "           tconst                  originalTitle startYear  \\\n",
      "4       tt0069049     The Other Side of the Wind      2018   \n",
      "16      tt0112502                        Bigfoot      2017   \n",
      "17      tt0116991            Mariette in Ecstasy      2019   \n",
      "18      tt0120589                   Predestinado      2022   \n",
      "55      tt0137204                Joe Finds Grace      2017   \n",
      "...           ...                            ...       ...   \n",
      "356455  tt9915872  Boku no kanojo wa mahoutsukai      2019   \n",
      "356460  tt9916170                       O Ensaio      2019   \n",
      "356464  tt9916190                      Safeguard      2020   \n",
      "356466  tt9916362                       Akelarre      2020   \n",
      "356467  tt9916428   Hong xing zhao yao Zhong guo      2019   \n",
      "\n",
      "                            genres  runtimeMinutes           director  \\\n",
      "4                            Drama             122       Orson Welles   \n",
      "16                 Horror,Thriller               0           Mc Jones   \n",
      "17                           Drama             101        John Bailey   \n",
      "18                 Biography,Drama             108  Gustavo Fernández   \n",
      "55      Adventure,Animation,Comedy              83   Anthony Harrison   \n",
      "...                            ...             ...                ...   \n",
      "356455        Comedy,Drama,Fantasy              97      Hideki Kiyota   \n",
      "356460                       Drama              51    Tamar Guimaraes   \n",
      "356464   Action,Adventure,Thriller              95    Fraser Precious   \n",
      "356466               Drama,History              92       Pablo Agüero   \n",
      "356467       Adventure,History,War               0        Jixing Wang   \n",
      "\n",
      "        averageRating  numVotes  isOriginalTitle isAdult region criticsRating  \\\n",
      "4                 6.7    8156.0              0.0       0     US           83%   \n",
      "16                4.7      42.0              0.0       0     US                 \n",
      "17                7.1      81.0              0.0       0     US          None   \n",
      "18                7.2     417.0              0.0       0     US          None   \n",
      "55                8.6     294.0              0.0       0     US          None   \n",
      "...               ...       ...              ...     ...    ...           ...   \n",
      "356455            6.2      10.0              0.0       0     US          None   \n",
      "356460            3.8      14.0              0.0       0     US          None   \n",
      "356464            3.6     262.0              0.0       0     US          None   \n",
      "356466            6.4    5908.0              0.0       0     US          None   \n",
      "356467            3.6      19.0              0.0       0     US          None   \n",
      "\n",
      "       voterCount audienceRating  \n",
      "4              99            58%  \n",
      "16           None            26%  \n",
      "17           None           None  \n",
      "18           None           None  \n",
      "55           None           None  \n",
      "...           ...            ...  \n",
      "356455       None           None  \n",
      "356460       None           None  \n",
      "356464       None           None  \n",
      "356466       None           None  \n",
      "356467       None           None  \n",
      "\n",
      "[77880 rows x 14 columns]\n"
     ]
    }
   ],
   "source": [
    "print(final_dataset_cleaned[final_dataset_cleaned['criticsRating'] != 'None'])"
   ]
  },
  {
   "cell_type": "code",
   "execution_count": 39,
   "id": "35f2941d-a21a-450a-9b2d-fa2a2ce5a4d1",
   "metadata": {},
   "outputs": [
    {
     "name": "stdout",
     "output_type": "stream",
     "text": [
      "4          83%\n",
      "16            \n",
      "17        None\n",
      "18        None\n",
      "55        None\n",
      "          ... \n",
      "356455    None\n",
      "356460    None\n",
      "356464    None\n",
      "356466    None\n",
      "356467    None\n",
      "Name: criticsRating, Length: 77880, dtype: object\n"
     ]
    }
   ],
   "source": [
    "print(final_dataset_cleaned.loc[final_dataset_cleaned['criticsRating'] != 'None', 'criticsRating'])"
   ]
  },
  {
   "cell_type": "code",
   "execution_count": 43,
   "id": "fe535fe1-9caf-46cf-b014-76e885f35ef8",
   "metadata": {},
   "outputs": [
    {
     "name": "stdout",
     "output_type": "stream",
     "text": [
      "4         83%\n",
      "240       80%\n",
      "241       47%\n",
      "242       47%\n",
      "243       47%\n",
      "         ... \n",
      "150270    75%\n",
      "150271    75%\n",
      "150313    47%\n",
      "150332    65%\n",
      "150333    65%\n",
      "Name: criticsRating, Length: 7080, dtype: object\n"
     ]
    }
   ],
   "source": [
    "print(final_dataset_cleaned.loc[final_dataset_cleaned['criticsRating'].notna() & (final_dataset_cleaned['criticsRating'] != 'None') & (final_dataset_cleaned['criticsRating'] != ''), 'criticsRating'])\n"
   ]
  },
  {
   "cell_type": "code",
   "execution_count": 45,
   "id": "1549d572-e98c-42db-bf7f-dd6c2431f484",
   "metadata": {},
   "outputs": [
    {
     "name": "stdout",
     "output_type": "stream",
     "text": [
      "Count of valid critics ratings: 10842\n"
     ]
    }
   ],
   "source": [
    "count = final_dataset_cleaned.loc[final_dataset_cleaned['audienceRating'].notna() & (final_dataset_cleaned['audienceRating'] != 'None') & (final_dataset_cleaned['audienceRating'] != '')].shape[0]\n",
    "print(f\"Count of valid critics ratings: {count}\")"
   ]
  },
  {
   "cell_type": "code",
   "execution_count": 46,
   "id": "0dc2d3fc-5d4a-491c-8ed6-4c55d627c02e",
   "metadata": {},
   "outputs": [
    {
     "name": "stdout",
     "output_type": "stream",
     "text": [
      "4         58%\n",
      "16        26%\n",
      "116       86%\n",
      "202       11%\n",
      "233       38%\n",
      "         ... \n",
      "150322    40%\n",
      "150324    40%\n",
      "150329    14%\n",
      "150332    82%\n",
      "150333    82%\n",
      "Name: audienceRating, Length: 10842, dtype: object\n"
     ]
    }
   ],
   "source": [
    "print(final_dataset_cleaned.loc[final_dataset_cleaned['audienceRating'].notna() & (final_dataset_cleaned['audienceRating'] != 'None') & (final_dataset_cleaned['audienceRating'] != ''), 'audienceRating'])"
   ]
  },
  {
   "cell_type": "code",
   "execution_count": 47,
   "id": "f49e7fd9-57bc-435a-a71c-ff2f2e60ab08",
   "metadata": {},
   "outputs": [
    {
     "data": {
      "text/html": [
       "<div>\n",
       "<style scoped>\n",
       "    .dataframe tbody tr th:only-of-type {\n",
       "        vertical-align: middle;\n",
       "    }\n",
       "\n",
       "    .dataframe tbody tr th {\n",
       "        vertical-align: top;\n",
       "    }\n",
       "\n",
       "    .dataframe thead th {\n",
       "        text-align: right;\n",
       "    }\n",
       "</style>\n",
       "<table border=\"1\" class=\"dataframe\">\n",
       "  <thead>\n",
       "    <tr style=\"text-align: right;\">\n",
       "      <th></th>\n",
       "      <th>tconst</th>\n",
       "      <th>originalTitle</th>\n",
       "      <th>startYear</th>\n",
       "      <th>genres</th>\n",
       "      <th>runtimeMinutes</th>\n",
       "      <th>director</th>\n",
       "      <th>averageRating</th>\n",
       "      <th>numVotes</th>\n",
       "      <th>isOriginalTitle</th>\n",
       "      <th>isAdult</th>\n",
       "      <th>region</th>\n",
       "      <th>criticsRating</th>\n",
       "      <th>voterCount</th>\n",
       "      <th>audienceRating</th>\n",
       "    </tr>\n",
       "  </thead>\n",
       "  <tbody>\n",
       "    <tr>\n",
       "      <th>4</th>\n",
       "      <td>tt0069049</td>\n",
       "      <td>The Other Side of the Wind</td>\n",
       "      <td>2018</td>\n",
       "      <td>Drama</td>\n",
       "      <td>122</td>\n",
       "      <td>Orson Welles</td>\n",
       "      <td>6.7</td>\n",
       "      <td>8156.0</td>\n",
       "      <td>0.0</td>\n",
       "      <td>0</td>\n",
       "      <td>US</td>\n",
       "      <td>83%</td>\n",
       "      <td>99</td>\n",
       "      <td>58%</td>\n",
       "    </tr>\n",
       "    <tr>\n",
       "      <th>16</th>\n",
       "      <td>tt0112502</td>\n",
       "      <td>Bigfoot</td>\n",
       "      <td>2017</td>\n",
       "      <td>Horror,Thriller</td>\n",
       "      <td>0</td>\n",
       "      <td>Mc Jones</td>\n",
       "      <td>4.7</td>\n",
       "      <td>42.0</td>\n",
       "      <td>0.0</td>\n",
       "      <td>0</td>\n",
       "      <td>US</td>\n",
       "      <td></td>\n",
       "      <td>None</td>\n",
       "      <td>26%</td>\n",
       "    </tr>\n",
       "    <tr>\n",
       "      <th>17</th>\n",
       "      <td>tt0116991</td>\n",
       "      <td>Mariette in Ecstasy</td>\n",
       "      <td>2019</td>\n",
       "      <td>Drama</td>\n",
       "      <td>101</td>\n",
       "      <td>John Bailey</td>\n",
       "      <td>7.1</td>\n",
       "      <td>81.0</td>\n",
       "      <td>0.0</td>\n",
       "      <td>0</td>\n",
       "      <td>US</td>\n",
       "      <td>None</td>\n",
       "      <td>None</td>\n",
       "      <td>None</td>\n",
       "    </tr>\n",
       "    <tr>\n",
       "      <th>18</th>\n",
       "      <td>tt0120589</td>\n",
       "      <td>Predestinado</td>\n",
       "      <td>2022</td>\n",
       "      <td>Biography,Drama</td>\n",
       "      <td>108</td>\n",
       "      <td>Gustavo Fernández</td>\n",
       "      <td>7.2</td>\n",
       "      <td>417.0</td>\n",
       "      <td>0.0</td>\n",
       "      <td>0</td>\n",
       "      <td>US</td>\n",
       "      <td>None</td>\n",
       "      <td>None</td>\n",
       "      <td>None</td>\n",
       "    </tr>\n",
       "    <tr>\n",
       "      <th>55</th>\n",
       "      <td>tt0137204</td>\n",
       "      <td>Joe Finds Grace</td>\n",
       "      <td>2017</td>\n",
       "      <td>Adventure,Animation,Comedy</td>\n",
       "      <td>83</td>\n",
       "      <td>Anthony Harrison</td>\n",
       "      <td>8.6</td>\n",
       "      <td>294.0</td>\n",
       "      <td>0.0</td>\n",
       "      <td>0</td>\n",
       "      <td>US</td>\n",
       "      <td>None</td>\n",
       "      <td>None</td>\n",
       "      <td>None</td>\n",
       "    </tr>\n",
       "    <tr>\n",
       "      <th>...</th>\n",
       "      <td>...</td>\n",
       "      <td>...</td>\n",
       "      <td>...</td>\n",
       "      <td>...</td>\n",
       "      <td>...</td>\n",
       "      <td>...</td>\n",
       "      <td>...</td>\n",
       "      <td>...</td>\n",
       "      <td>...</td>\n",
       "      <td>...</td>\n",
       "      <td>...</td>\n",
       "      <td>...</td>\n",
       "      <td>...</td>\n",
       "      <td>...</td>\n",
       "    </tr>\n",
       "    <tr>\n",
       "      <th>404</th>\n",
       "      <td>tt0433035</td>\n",
       "      <td>Real Steel</td>\n",
       "      <td>2011</td>\n",
       "      <td>Action,Drama,Sci-Fi</td>\n",
       "      <td>127</td>\n",
       "      <td>Shawn Levy</td>\n",
       "      <td>7.1</td>\n",
       "      <td>362971.0</td>\n",
       "      <td>0.0</td>\n",
       "      <td>0</td>\n",
       "      <td>US</td>\n",
       "      <td>60%</td>\n",
       "      <td>None</td>\n",
       "      <td>73%</td>\n",
       "    </tr>\n",
       "    <tr>\n",
       "      <th>405</th>\n",
       "      <td>tt0433035</td>\n",
       "      <td>Real Steel</td>\n",
       "      <td>2011</td>\n",
       "      <td>Action,Drama,Sci-Fi</td>\n",
       "      <td>127</td>\n",
       "      <td>Shawn Levy</td>\n",
       "      <td>7.1</td>\n",
       "      <td>362971.0</td>\n",
       "      <td>0.0</td>\n",
       "      <td>0</td>\n",
       "      <td>US</td>\n",
       "      <td>60%</td>\n",
       "      <td>None</td>\n",
       "      <td>73%</td>\n",
       "    </tr>\n",
       "    <tr>\n",
       "      <th>406</th>\n",
       "      <td>tt0433035</td>\n",
       "      <td>Real Steel</td>\n",
       "      <td>2011</td>\n",
       "      <td>Action,Drama,Sci-Fi</td>\n",
       "      <td>127</td>\n",
       "      <td>Shawn Levy</td>\n",
       "      <td>7.1</td>\n",
       "      <td>362971.0</td>\n",
       "      <td>0.0</td>\n",
       "      <td>0</td>\n",
       "      <td>US</td>\n",
       "      <td>60%</td>\n",
       "      <td>None</td>\n",
       "      <td>73%</td>\n",
       "    </tr>\n",
       "    <tr>\n",
       "      <th>407</th>\n",
       "      <td>tt0433397</td>\n",
       "      <td>Satin</td>\n",
       "      <td>2011</td>\n",
       "      <td>Comedy,Drama,Music</td>\n",
       "      <td>84</td>\n",
       "      <td>Christopher Olness</td>\n",
       "      <td>4.5</td>\n",
       "      <td>272.0</td>\n",
       "      <td>0.0</td>\n",
       "      <td>0</td>\n",
       "      <td>US</td>\n",
       "      <td></td>\n",
       "      <td>None</td>\n",
       "      <td>59%</td>\n",
       "    </tr>\n",
       "    <tr>\n",
       "      <th>408</th>\n",
       "      <td>tt0433397</td>\n",
       "      <td>Satin</td>\n",
       "      <td>2011</td>\n",
       "      <td>Comedy,Drama,Music</td>\n",
       "      <td>84</td>\n",
       "      <td>Christopher Olness</td>\n",
       "      <td>4.5</td>\n",
       "      <td>272.0</td>\n",
       "      <td>0.0</td>\n",
       "      <td>0</td>\n",
       "      <td>US</td>\n",
       "      <td></td>\n",
       "      <td>None</td>\n",
       "      <td>59%</td>\n",
       "    </tr>\n",
       "  </tbody>\n",
       "</table>\n",
       "<p>100 rows × 14 columns</p>\n",
       "</div>"
      ],
      "text/plain": [
       "        tconst               originalTitle startYear  \\\n",
       "4    tt0069049  The Other Side of the Wind      2018   \n",
       "16   tt0112502                     Bigfoot      2017   \n",
       "17   tt0116991         Mariette in Ecstasy      2019   \n",
       "18   tt0120589                Predestinado      2022   \n",
       "55   tt0137204             Joe Finds Grace      2017   \n",
       "..         ...                         ...       ...   \n",
       "404  tt0433035                  Real Steel      2011   \n",
       "405  tt0433035                  Real Steel      2011   \n",
       "406  tt0433035                  Real Steel      2011   \n",
       "407  tt0433397                       Satin      2011   \n",
       "408  tt0433397                       Satin      2011   \n",
       "\n",
       "                         genres  runtimeMinutes            director  \\\n",
       "4                         Drama             122        Orson Welles   \n",
       "16              Horror,Thriller               0            Mc Jones   \n",
       "17                        Drama             101         John Bailey   \n",
       "18              Biography,Drama             108   Gustavo Fernández   \n",
       "55   Adventure,Animation,Comedy              83    Anthony Harrison   \n",
       "..                          ...             ...                 ...   \n",
       "404         Action,Drama,Sci-Fi             127          Shawn Levy   \n",
       "405         Action,Drama,Sci-Fi             127          Shawn Levy   \n",
       "406         Action,Drama,Sci-Fi             127          Shawn Levy   \n",
       "407          Comedy,Drama,Music              84  Christopher Olness   \n",
       "408          Comedy,Drama,Music              84  Christopher Olness   \n",
       "\n",
       "     averageRating  numVotes  isOriginalTitle isAdult region criticsRating  \\\n",
       "4              6.7    8156.0              0.0       0     US           83%   \n",
       "16             4.7      42.0              0.0       0     US                 \n",
       "17             7.1      81.0              0.0       0     US          None   \n",
       "18             7.2     417.0              0.0       0     US          None   \n",
       "55             8.6     294.0              0.0       0     US          None   \n",
       "..             ...       ...              ...     ...    ...           ...   \n",
       "404            7.1  362971.0              0.0       0     US           60%   \n",
       "405            7.1  362971.0              0.0       0     US           60%   \n",
       "406            7.1  362971.0              0.0       0     US           60%   \n",
       "407            4.5     272.0              0.0       0     US                 \n",
       "408            4.5     272.0              0.0       0     US                 \n",
       "\n",
       "    voterCount audienceRating  \n",
       "4           99            58%  \n",
       "16        None            26%  \n",
       "17        None           None  \n",
       "18        None           None  \n",
       "55        None           None  \n",
       "..         ...            ...  \n",
       "404       None            73%  \n",
       "405       None            73%  \n",
       "406       None            73%  \n",
       "407       None            59%  \n",
       "408       None            59%  \n",
       "\n",
       "[100 rows x 14 columns]"
      ]
     },
     "execution_count": 47,
     "metadata": {},
     "output_type": "execute_result"
    }
   ],
   "source": [
    "final_dataset_cleaned.head(100)"
   ]
  },
  {
   "cell_type": "code",
   "execution_count": 51,
   "id": "05340351-8c0f-47e9-bf18-def4308a54fe",
   "metadata": {},
   "outputs": [
    {
     "name": "stdout",
     "output_type": "stream",
     "text": [
      "           tconst          originalTitle startYear                genres  \\\n",
      "148     tt0191010  Heartland of Darkness      2022                Horror   \n",
      "169     tt0202523     The Perfect Shadow      2024                 Drama   \n",
      "234     tt0285252         Life's a Beach      2012                Comedy   \n",
      "235     tt0285252         Life's a Beach      2012                Comedy   \n",
      "236     tt0285252         Life's a Beach      2012                Comedy   \n",
      "...           ...                    ...       ...                   ...   \n",
      "356258  tt9899880               Columbus      2018          Comedy,Drama   \n",
      "356279  tt9900940           The Scrapper      2021  Crime,Drama,Thriller   \n",
      "356418  tt9913936               Paradise      2019           Crime,Drama   \n",
      "356419  tt9913936               Paradise      2019           Crime,Drama   \n",
      "356431  tt9914642              Albatross      2017           Documentary   \n",
      "\n",
      "        runtimeMinutes              director  averageRating  numVotes  \\\n",
      "148                102         Eric Swelstad            5.5     137.0   \n",
      "169                 82      Justin McGilvery            8.9      11.0   \n",
      "234                 88           Tony Vitale            3.6     289.0   \n",
      "235                 88           Tony Vitale            3.6     289.0   \n",
      "236                 88           Tony Vitale            3.6     289.0   \n",
      "...                ...                   ...            ...       ...   \n",
      "356258              82      Hatef Alimardani            4.0     387.0   \n",
      "356279              87             Bari Kang            4.3    1464.0   \n",
      "356418             135  Kevin Jimenez Bernal            7.4      61.0   \n",
      "356419             135  Kevin Jimenez Bernal            7.4      61.0   \n",
      "356431              97          Chris Jordan            8.4      50.0   \n",
      "\n",
      "        isOriginalTitle isAdult region criticsRating voterCount audienceRating  \n",
      "148                 0.0       0     US          None       None           None  \n",
      "169                 0.0       0     US          None       None           None  \n",
      "234                 0.0       0     US                     None            38%  \n",
      "235                 0.0       0     US                     None            38%  \n",
      "236                 0.0       0     US                     None            38%  \n",
      "...                 ...     ...    ...           ...        ...            ...  \n",
      "356258              0.0       0     US          None       None           None  \n",
      "356279              0.0       0     US          None       None           None  \n",
      "356418              0.0       0     US          None       None           None  \n",
      "356419              0.0       0     US          None       None           None  \n",
      "356431              0.0       0     US          None       None           None  \n",
      "\n",
      "[9976 rows x 14 columns]\n",
      "Number of duplicate titles: 9976\n"
     ]
    }
   ],
   "source": [
    "duplicates = final_dataset_cleaned[final_dataset_cleaned['originalTitle'].duplicated()]\n",
    "\n",
    "# Print the duplicates\n",
    "print(duplicates)\n",
    "duplicate_count = final_dataset_cleaned['originalTitle'].duplicated().sum()\n",
    "print(f\"Number of duplicate titles: {duplicate_count}\")"
   ]
  },
  {
   "cell_type": "code",
   "execution_count": 52,
   "id": "e65f8668-6cfb-47dc-b5b6-f091d19f20f7",
   "metadata": {},
   "outputs": [
    {
     "name": "stdout",
     "output_type": "stream",
     "text": [
      "Number of rows after removing duplicates: 67904\n"
     ]
    }
   ],
   "source": [
    "#cleaning:\n",
    "# Remove duplicates based on 'originalTitle', keeping first occurrence\n",
    "final_dataset_cleaned = final_dataset_cleaned.drop_duplicates(subset='originalTitle', keep='first')\n",
    "\n",
    "# Check the result\n",
    "print(f\"Number of rows after removing duplicates: {final_dataset_cleaned.shape[0]}\")\n"
   ]
  },
  {
   "cell_type": "code",
   "execution_count": 53,
   "id": "ad602233-3935-4af6-ab29-60671d4adefa",
   "metadata": {},
   "outputs": [
    {
     "name": "stdout",
     "output_type": "stream",
     "text": [
      "4         58%\n",
      "16        26%\n",
      "116       86%\n",
      "202       11%\n",
      "233       38%\n",
      "         ... \n",
      "150320    77%\n",
      "150322    40%\n",
      "150324    40%\n",
      "150329    14%\n",
      "150332    82%\n",
      "Name: audienceRating, Length: 8546, dtype: object\n"
     ]
    }
   ],
   "source": [
    "print(final_dataset_cleaned.loc[final_dataset_cleaned['audienceRating'].notna() & (final_dataset_cleaned['audienceRating'] != 'None') & (final_dataset_cleaned['audienceRating'] != ''), 'audienceRating'])"
   ]
  },
  {
   "cell_type": "code",
   "execution_count": 54,
   "id": "a5367988-69c5-42b8-b3f2-f682d4e0644b",
   "metadata": {},
   "outputs": [
    {
     "name": "stdout",
     "output_type": "stream",
     "text": [
      "4         83%\n",
      "240       80%\n",
      "241       47%\n",
      "259       56%\n",
      "262       41%\n",
      "         ... \n",
      "150237    33%\n",
      "150242     0%\n",
      "150269    75%\n",
      "150313    47%\n",
      "150332    65%\n",
      "Name: criticsRating, Length: 5455, dtype: object\n"
     ]
    }
   ],
   "source": [
    "print(final_dataset_cleaned.loc[final_dataset_cleaned['criticsRating'].notna() & (final_dataset_cleaned['criticsRating'] != 'None') & (final_dataset_cleaned['criticsRating'] != ''), 'criticsRating'])\n"
   ]
  },
  {
   "cell_type": "code",
   "execution_count": 55,
   "id": "409b632c-111b-4032-a2de-9aca0c205b7c",
   "metadata": {},
   "outputs": [
    {
     "name": "stdout",
     "output_type": "stream",
     "text": [
      "tconst                 0\n",
      "originalTitle          0\n",
      "startYear              0\n",
      "genres                 0\n",
      "runtimeMinutes         0\n",
      "director               0\n",
      "averageRating          0\n",
      "numVotes               0\n",
      "isOriginalTitle        0\n",
      "isAdult                0\n",
      "region                 0\n",
      "criticsRating      58645\n",
      "voterCount         67903\n",
      "audienceRating     58645\n",
      "dtype: int64\n"
     ]
    }
   ],
   "source": [
    "print(final_dataset_cleaned.isnull().sum())\n"
   ]
  },
  {
   "cell_type": "code",
   "execution_count": 56,
   "id": "a8732aea-d48a-4c84-b521-c6d6e331b1fb",
   "metadata": {},
   "outputs": [],
   "source": [
    "\n",
    "final_dataset_cleaned = final_dataset_cleaned[final_dataset_cleaned['runtimeMinutes'] >= 60]"
   ]
  },
  {
   "cell_type": "code",
   "execution_count": 57,
   "id": "038d33ba-88cf-4bd4-a4ff-e7d0fffc8649",
   "metadata": {},
   "outputs": [],
   "source": [
    "#validation and correcting starting\n",
    "final_dataset_cleaned['startYear'] = pd.to_datetime(final_dataset_cleaned['startYear'], format='%Y', errors='coerce')"
   ]
  },
  {
   "cell_type": "code",
   "execution_count": 58,
   "id": "0b98453a-283d-432c-8ab9-0545cab7a035",
   "metadata": {},
   "outputs": [
    {
     "name": "stdout",
     "output_type": "stream",
     "text": [
      "All regions are valid.\n"
     ]
    }
   ],
   "source": [
    "#validation\n",
    "valid_regions = ['US', 'UK']\n",
    "\n",
    "# Check if there are any invalid regions\n",
    "invalid_regions = final_dataset_cleaned[~final_dataset_cleaned['region'].isin(valid_regions)]\n",
    "\n",
    "# Display invalid regions, if any\n",
    "if not invalid_regions.empty:\n",
    "    print(\"Invalid regions found:\")\n",
    "    print(invalid_regions[['originalTitle', 'region']])\n",
    "else:\n",
    "    print(\"All regions are valid.\")\n",
    "\n",
    "# Filter dataset to only keep valid regions\n",
    "final_dataset_cleaned = final_dataset_cleaned[final_dataset_cleaned['region'].isin(valid_regions)]\n",
    "\n"
   ]
  },
  {
   "cell_type": "code",
   "execution_count": 60,
   "id": "a77ddcf8-2cfa-45f2-8e7b-4ab45015798b",
   "metadata": {},
   "outputs": [
    {
     "name": "stdout",
     "output_type": "stream",
     "text": [
      "<class 'pandas.core.frame.DataFrame'>\n",
      "Index: 60893 entries, 4 to 356466\n",
      "Data columns (total 15 columns):\n",
      " #   Column           Non-Null Count  Dtype         \n",
      "---  ------           --------------  -----         \n",
      " 0   tconst           60893 non-null  object        \n",
      " 1   originalTitle    60893 non-null  object        \n",
      " 2   startYear        60885 non-null  datetime64[ns]\n",
      " 3   genres           60893 non-null  object        \n",
      " 4   runtimeMinutes   60893 non-null  int64         \n",
      " 5   director         60893 non-null  object        \n",
      " 6   averageRating    60893 non-null  float64       \n",
      " 7   numVotes         60893 non-null  float64       \n",
      " 8   isOriginalTitle  60893 non-null  float64       \n",
      " 9   isAdult          60893 non-null  object        \n",
      " 10  region           60893 non-null  object        \n",
      " 11  criticsRating    8971 non-null   object        \n",
      " 12  voterCount       1 non-null      object        \n",
      " 13  audienceRating   8971 non-null   object        \n",
      " 14  genres_list      60893 non-null  object        \n",
      "dtypes: datetime64[ns](1), float64(3), int64(1), object(10)\n",
      "memory usage: 7.4+ MB\n"
     ]
    }
   ],
   "source": [
    "final_dataset_cleaned.info()"
   ]
  },
  {
   "cell_type": "code",
   "execution_count": 67,
   "id": "7a909127-6cf9-4089-92bb-acc9a7dccdc7",
   "metadata": {},
   "outputs": [
    {
     "name": "stdout",
     "output_type": "stream",
     "text": [
      "No valid voter count found for Maidaan\n",
      "No valid voter count found for Fetih 1453\n",
      "Number of unsuccessful web scraping attempts: 2\n",
      "                                         originalTitle criticsRating  \\\n",
      "4                           The Other Side of the Wind           83%   \n",
      "17                                 Mariette in Ecstasy          None   \n",
      "18                                        Predestinado          None   \n",
      "55                                     Joe Finds Grace          None   \n",
      "58   Housesitter: The Night They Saved Siegfried's ...          None   \n",
      "116                 Cooper and Hemingway: The True Gen                 \n",
      "118                                          Nine Ball          None   \n",
      "126                                         Blood Type          None   \n",
      "130                                Az ember tragédiája          None   \n",
      "147                              Heartland of Darkness          None   \n",
      "151                                     Reverse Heaven          None   \n",
      "160                                     Holy Hollywood          None   \n",
      "168                                 The Perfect Shadow          None   \n",
      "178        Black Star: Autobiography of a Close Friend          None   \n",
      "202                                         Foodfight!                 \n",
      "208                                  Return to Babylon          None   \n",
      "233                                     Life's a Beach                 \n",
      "237                                   Universal Groove          None   \n",
      "240                                         Dark Blood           80%   \n",
      "241                                      Mortal Kombat           47%   \n",
      "\n",
      "    voterCount  \n",
      "4           99  \n",
      "17        None  \n",
      "18        None  \n",
      "55        None  \n",
      "58        None  \n",
      "116       None  \n",
      "118       None  \n",
      "126       None  \n",
      "130       None  \n",
      "147       None  \n",
      "151       None  \n",
      "160       None  \n",
      "168       None  \n",
      "178       None  \n",
      "202       None  \n",
      "208       None  \n",
      "233       None  \n",
      "237       None  \n",
      "240          5  \n",
      "241         45  \n"
     ]
    }
   ],
   "source": [
    "import requests\n",
    "from bs4 import BeautifulSoup\n",
    "import re\n",
    "import pandas as pd\n",
    "\n",
    "# Helper function to format movie title for Rotten Tomatoes URL\n",
    "def format_movie_title_for_url(title):\n",
    "    title = title.replace('&', 'and')  # Replace '&' with 'and'\n",
    "    title = re.sub(r'[^a-zA-Z0-9\\s]', '', title)  # Remove special characters\n",
    "    title = title.replace(' ', '_').lower()       # Replace spaces with underscores and make lowercase\n",
    "    return title\n",
    "\n",
    "# Function to scrape voter count from Rotten Tomatoes based on HTML structure from image\n",
    "def scrape_voter_count(movie_title):\n",
    "    base_url = \"https://www.rottentomatoes.com/m/\"\n",
    "    formatted_title = format_movie_title_for_url(movie_title)\n",
    "    url = base_url + formatted_title\n",
    "    headers = {'User-Agent': 'Mozilla/5.0'}\n",
    "\n",
    "    try:\n",
    "        response = requests.get(url, headers=headers)\n",
    "        if response.status_code != 200:\n",
    "            print(f\"Error fetching {movie_title}: Status code {response.status_code}\")\n",
    "            return None\n",
    "\n",
    "        soup = BeautifulSoup(response.text, 'html.parser')\n",
    "\n",
    "        # Get the voter count from criticsReviews section\n",
    "        critics_review_link = soup.find('rt-link', {'slot': 'criticsReviews'})\n",
    "        if critics_review_link:\n",
    "            voter_count_text = critics_review_link.text.strip()\n",
    "            voter_count = re.search(r'\\d+', voter_count_text)\n",
    "            if voter_count:\n",
    "                voter_count = voter_count.group()\n",
    "                return voter_count\n",
    "\n",
    "        # If no valid voter count found\n",
    "        print(f\"No valid voter count found for {movie_title}\")\n",
    "        return None\n",
    "\n",
    "    except Exception as e:\n",
    "        print(f\"Error scraping {movie_title}: {e}\")\n",
    "        return None\n",
    "\n",
    "# Add new column for voter count\n",
    "final_dataset_cleaned['voterCount'] = None\n",
    "\n",
    "# Condition: criticsRating should not be NaN, not equal to 'None', and not empty\n",
    "valid_rows = final_dataset_cleaned.loc[\n",
    "    final_dataset_cleaned['criticsRating'].notna() &\n",
    "    (final_dataset_cleaned['criticsRating'] != 'None') &\n",
    "    (final_dataset_cleaned['criticsRating'] != '')\n",
    "]\n",
    "\n",
    "# Scrape Rotten Tomatoes for each movie satisfying the condition\n",
    "unsuccessful_count = 0  # Initialize counter for unsuccessful scrapes\n",
    "for index, row in valid_rows.iterrows():\n",
    "    movie_title = row['originalTitle']\n",
    "    voter_count = scrape_voter_count(movie_title)\n",
    "\n",
    "    if voter_count is not None:\n",
    "        final_dataset_cleaned.at[index, 'voterCount'] = voter_count\n",
    "    else:\n",
    "        unsuccessful_count += 1  # Increment the counter for unsuccessful scrapes\n",
    "\n",
    "# Display the count of unsuccessful scrapes\n",
    "print(f\"Number of unsuccessful web scraping attempts: {unsuccessful_count}\")\n",
    "\n",
    "# Display the updated dataset\n",
    "print(final_dataset_cleaned[['originalTitle', 'criticsRating', 'voterCount']].head(20))\n"
   ]
  },
  {
   "cell_type": "code",
   "execution_count": 68,
   "id": "881b415e-a040-47a0-95f6-19e05be61550",
   "metadata": {},
   "outputs": [
    {
     "name": "stdout",
     "output_type": "stream",
     "text": [
      "4          99\n",
      "240         5\n",
      "241        45\n",
      "259         9\n",
      "262        44\n",
      "         ... \n",
      "150237    214\n",
      "150242      5\n",
      "150269     12\n",
      "150313     19\n",
      "150332     37\n",
      "Name: voterCount, Length: 5334, dtype: object\n"
     ]
    }
   ],
   "source": [
    "print(final_dataset_cleaned.loc[final_dataset_cleaned['voterCount'].notna() & (final_dataset_cleaned['voterCount'] != 'None') & (final_dataset_cleaned['voterCount'] != ''), 'voterCount'])"
   ]
  },
  {
   "cell_type": "code",
   "execution_count": 69,
   "id": "44892b05-99c0-400e-8e7a-fee3d415526a",
   "metadata": {},
   "outputs": [],
   "source": [
    "final_dataset_cleaned.to_csv('cleaned_movies_dataset.csv', index=False)\n"
   ]
  },
  {
   "cell_type": "code",
   "execution_count": null,
   "id": "fe5524dd-00e6-4bfd-aaa0-dd1bae425899",
   "metadata": {},
   "outputs": [],
   "source": []
  }
 ],
 "metadata": {
  "kernelspec": {
   "display_name": "Python 3 (ipykernel)",
   "language": "python",
   "name": "python3"
  },
  "language_info": {
   "codemirror_mode": {
    "name": "ipython",
    "version": 3
   },
   "file_extension": ".py",
   "mimetype": "text/x-python",
   "name": "python",
   "nbconvert_exporter": "python",
   "pygments_lexer": "ipython3",
   "version": "3.9.6"
  }
 },
 "nbformat": 4,
 "nbformat_minor": 5
}
